{
 "cells": [
  {
   "cell_type": "code",
   "execution_count": 8,
   "id": "8807f60c-1d5e-42af-966a-7e1c60f83100",
   "metadata": {},
   "outputs": [],
   "source": [
    "with open('miracle_in_the_andes.txt', 'r', encoding= 'utf-8') as file:\n",
    "    book = file.read()"
   ]
  },
  {
   "cell_type": "code",
   "execution_count": 9,
   "id": "c630ec1d-723d-439a-9a42-c312f6d3801b",
   "metadata": {},
   "outputs": [
    {
     "data": {
      "text/plain": [
       "str"
      ]
     },
     "execution_count": 9,
     "metadata": {},
     "output_type": "execute_result"
    }
   ],
   "source": [
    "type(book)"
   ]
  },
  {
   "cell_type": "code",
   "execution_count": 12,
   "id": "44eb57f3-877a-4b50-b5f5-e751013220f4",
   "metadata": {},
   "outputs": [
    {
     "data": {
      "text/plain": [
       "11"
      ]
     },
     "execution_count": 12,
     "metadata": {},
     "output_type": "execute_result"
    }
   ],
   "source": [
    "book.count('Chapter')"
   ]
  },
  {
   "cell_type": "code",
   "execution_count": 13,
   "id": "ced86ebd-dd37-45ab-bfeb-70d352afb7f6",
   "metadata": {},
   "outputs": [],
   "source": [
    "import re"
   ]
  },
  {
   "cell_type": "code",
   "execution_count": 14,
   "id": "fa588668-5cdc-4109-aea0-07ec1f392259",
   "metadata": {},
   "outputs": [
    {
     "data": {
      "text/plain": [
       "10"
      ]
     },
     "execution_count": 14,
     "metadata": {},
     "output_type": "execute_result"
    }
   ],
   "source": [
    "pattern = re.compile('Chapter [0-9]+')\n",
    "findings = re.findall(pattern, book)\n",
    "len(findings)"
   ]
  },
  {
   "cell_type": "code",
   "execution_count": 15,
   "id": "e12c3071-4778-43e9-843a-305536551b1c",
   "metadata": {},
   "outputs": [
    {
     "data": {
      "text/plain": [
       "67"
      ]
     },
     "execution_count": 15,
     "metadata": {},
     "output_type": "execute_result"
    }
   ],
   "source": [
    "pattern = re.compile(\"[A-Z]{1}[^.]*[^a-zA-Z]+love[^a-zA-Z]+[^.]*.\")\n",
    "findings = re.findall(pattern, book)\n",
    "len(findings)"
   ]
  },
  {
   "cell_type": "code",
   "execution_count": 16,
   "id": "23185c74-1c07-48f4-ace2-dd659d3d1606",
   "metadata": {},
   "outputs": [],
   "source": [
    "pattern = re.compile('[a-zA-Z]+')\n",
    "findings = re.findall(pattern, book.lower())\n"
   ]
  },
  {
   "cell_type": "code",
   "execution_count": 17,
   "id": "4a51118e-902a-4644-8110-2a7dffc7eedb",
   "metadata": {},
   "outputs": [],
   "source": [
    "d = {}\n",
    "for word in findings:\n",
    "    if word in d.keys():\n",
    "        d[word] = d[word] + 1\n",
    "    else:\n",
    "        d[word] = 1"
   ]
  },
  {
   "cell_type": "code",
   "execution_count": 18,
   "id": "ff64240b-a4fe-4a4c-bc0e-959f492c89d6",
   "metadata": {},
   "outputs": [
    {
     "ename": "NameError",
     "evalue": "name 'Tru' is not defined",
     "output_type": "error",
     "traceback": [
      "\u001b[1;31m---------------------------------------------------------------------------\u001b[0m",
      "\u001b[1;31mNameError\u001b[0m                                 Traceback (most recent call last)",
      "Cell \u001b[1;32mIn[18], line 2\u001b[0m\n\u001b[0;32m      1\u001b[0m d_list \u001b[38;5;241m=\u001b[39m [(value, key) \u001b[38;5;28;01mfor\u001b[39;00m (key, value) \u001b[38;5;129;01min\u001b[39;00m d\u001b[38;5;241m.\u001b[39mitems()]\n\u001b[1;32m----> 2\u001b[0m \u001b[38;5;28msorted\u001b[39m(d_list, reverse\u001b[38;5;241m=\u001b[39m\u001b[43mTru\u001b[49m)\n",
      "\u001b[1;31mNameError\u001b[0m: name 'Tru' is not defined"
     ]
    }
   ],
   "source": [
    "d_list = [(value, key) for (key, value) in d.items()]\n",
    "sorted(d_list, reverse=Tru)"
   ]
  },
  {
   "cell_type": "code",
   "execution_count": 19,
   "id": "987e36cf-912e-4d40-9d75-2d2c78abad2f",
   "metadata": {},
   "outputs": [],
   "source": [
    "with open('miracle_in_the_andes.txt', 'r', encoding= 'utf-8') as file:\n",
    "    book = file.read()"
   ]
  },
  {
   "cell_type": "code",
   "execution_count": 20,
   "id": "924458eb-e6d8-45a7-884b-8873923bb9d9",
   "metadata": {},
   "outputs": [],
   "source": [
    "import re"
   ]
  },
  {
   "cell_type": "code",
   "execution_count": 50,
   "id": "02b87fa8-65c4-4505-bfac-e69075b2b6ae",
   "metadata": {},
   "outputs": [
    {
     "data": {
      "text/plain": [
       "60"
      ]
     },
     "execution_count": 50,
     "metadata": {},
     "output_type": "execute_result"
    }
   ],
   "source": [
    "pattern = re.compile(\"[^\\n]+love[^\\n]+\")\n",
    "findings = re.findall(pattern, book)\n",
    "len(findings)"
   ]
  },
  {
   "cell_type": "code",
   "execution_count": 55,
   "id": "7178d7fe-08dc-42fa-bea6-d49a91fd3ca6",
   "metadata": {},
   "outputs": [
    {
     "data": {
      "text/plain": [
       "['Before',\n",
       " 'Everything Precious',\n",
       " 'A Promise',\n",
       " 'Breathe Once More',\n",
       " 'Abandoned',\n",
       " 'Tomb',\n",
       " 'East',\n",
       " 'The Opposite of Death',\n",
       " 'I See a Man',\n",
       " 'After']"
      ]
     },
     "execution_count": 55,
     "metadata": {},
     "output_type": "execute_result"
    }
   ],
   "source": [
    "pattern = re.compile(\"([a-zA-Z ,]+)\\n\\n\")\n",
    "findings = re.findall(pattern, book)\n",
    "findings"
   ]
  },
  {
   "cell_type": "code",
   "execution_count": 87,
   "id": "3a0bdc25-0daa-4190-92e4-3fe0034d8a8d",
   "metadata": {},
   "outputs": [],
   "source": [
    "def find(word=str):\n",
    "    pattern = re.compile(\"[a-zA-Z]+\")\n",
    "    findings = re.findall(pattern, book)\n",
    "    if word in findings:\n",
    "        return len(findings)\n",
    "    else:\n",
    "        return f\"The word {word} is not present in the book.\""
   ]
  },
  {
   "cell_type": "code",
   "execution_count": 88,
   "id": "d5156228-e31f-4e48-b8cb-016745e39ed9",
   "metadata": {},
   "outputs": [
    {
     "data": {
      "text/plain": [
       "463941"
      ]
     },
     "execution_count": 88,
     "metadata": {},
     "output_type": "execute_result"
    }
   ],
   "source": [
    "pattern = re.compile(\"\")\n",
    "findings = re.findall(pattern, book)\n",
    "len(findings)\n"
   ]
  },
  {
   "cell_type": "code",
   "execution_count": 89,
   "id": "51b076d1-586e-4491-b260-4c97bcb73c23",
   "metadata": {},
   "outputs": [
    {
     "data": {
      "text/plain": [
       "86798"
      ]
     },
     "execution_count": 89,
     "metadata": {},
     "output_type": "execute_result"
    }
   ],
   "source": [
    "find(\"love\")"
   ]
  },
  {
   "cell_type": "code",
   "execution_count": 90,
   "id": "9d54ff42-19ce-4ff8-ae97-e03a4a423cd6",
   "metadata": {},
   "outputs": [
    {
     "data": {
      "text/plain": [
       "'The word hate is not present in the book.'"
      ]
     },
     "execution_count": 90,
     "metadata": {},
     "output_type": "execute_result"
    }
   ],
   "source": [
    "find(\"hate\")"
   ]
  },
  {
   "cell_type": "code",
   "execution_count": 91,
   "id": "343ba24e-d2c1-4db4-9813-555deb22f9b5",
   "metadata": {},
   "outputs": [
    {
     "data": {
      "text/plain": [
       "'The word Arif is not present in the book.'"
      ]
     },
     "execution_count": 91,
     "metadata": {},
     "output_type": "execute_result"
    }
   ],
   "source": [
    "find(\"Arif\")"
   ]
  },
  {
   "cell_type": "code",
   "execution_count": null,
   "id": "095691a8-5f6f-418d-9afd-7af42023e7de",
   "metadata": {},
   "outputs": [],
   "source": []
  }
 ],
 "metadata": {
  "kernelspec": {
   "display_name": "Python 3 (ipykernel)",
   "language": "python",
   "name": "python3"
  },
  "language_info": {
   "codemirror_mode": {
    "name": "ipython",
    "version": 3
   },
   "file_extension": ".py",
   "mimetype": "text/x-python",
   "name": "python",
   "nbconvert_exporter": "python",
   "pygments_lexer": "ipython3",
   "version": "3.11.0"
  }
 },
 "nbformat": 4,
 "nbformat_minor": 5
}
